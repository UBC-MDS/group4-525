{
 "cells": [
  {
   "cell_type": "markdown",
<<<<<<< HEAD
   "id": "hungarian-appearance",
=======
   "id": "innovative-variation",
>>>>>>> 2b761171454b72c82fbab84153a93e3b9edee23a
   "metadata": {},
   "source": [
    "# DSCI 525 - Web and Cloud Computing\n",
    "## Milestone 1: Tackling big data on your laptop\n",
    "\n",
    "### Group #4\n",
    "### Members: Heidi Ye, Junting He, Kamal MoravejJahromi, Tanmay Sharma\n",
    "\n",
    "### GitHub Repo: **https://github.com/UBC-MDS/group4-525**"
   ]
  },
  {
   "cell_type": "markdown",
   "id": "saved-nepal",
   "metadata": {},
   "source": [
    "## Loading the libraries"
   ]
  },
  {
   "cell_type": "code",
<<<<<<< HEAD
   "execution_count": 2,
   "id": "major-treat",
=======
   "execution_count": 1,
   "id": "middle-martin",
>>>>>>> 2b761171454b72c82fbab84153a93e3b9edee23a
   "metadata": {},
   "outputs": [],
   "source": [
    "import re\n",
    "import os\n",
    "import glob\n",
    "import zipfile\n",
    "import requests\n",
    "from urllib.request import urlretrieve\n",
    "import json\n",
    "import pandas as pd\n",
    "from memory_profiler import memory_usage\n",
    "import dask.dataframe as dd\n",
    "import pyarrow.feather as feather\n",
    "import pyarrow.dataset as ds"
   ]
  },
  {
   "cell_type": "code",
<<<<<<< HEAD
   "execution_count": 3,
   "id": "stunning-bearing",
=======
   "execution_count": null,
   "id": "compliant-sheffield",
>>>>>>> 2b761171454b72c82fbab84153a93e3b9edee23a
   "metadata": {},
   "outputs": [],
   "source": [
    "%load_ext rpy2.ipython\n",
    "%load_ext memory_profiler"
   ]
  },
  {
   "cell_type": "markdown",
<<<<<<< HEAD
   "id": "constant-washer",
=======
   "id": "logical-doctrine",
>>>>>>> 2b761171454b72c82fbab84153a93e3b9edee23a
   "metadata": {},
   "source": [
    "## 1. Downloading the data"
   ]
  },
  {
   "cell_type": "code",
<<<<<<< HEAD
   "execution_count": 4,
   "id": "attempted-masters",
=======
   "execution_count": 3,
   "id": "mighty-wagner",
>>>>>>> 2b761171454b72c82fbab84153a93e3b9edee23a
   "metadata": {},
   "outputs": [],
   "source": [
    "# Necessary metadata\n",
    "article_id = 14096681  # this is the unique identifier of the article on figshare\n",
    "url = f\"https://api.figshare.com/v2/articles/{article_id}\"\n",
    "headers = {\"Content-Type\": \"application/json\"}\n",
    "output_directory = \"figsharerainfall/\""
   ]
  },
  {
   "cell_type": "code",
<<<<<<< HEAD
   "execution_count": 5,
   "id": "ancient-scene",
=======
   "execution_count": 4,
   "id": "coral-procedure",
>>>>>>> 2b761171454b72c82fbab84153a93e3b9edee23a
   "metadata": {},
   "outputs": [
    {
     "data": {
      "text/plain": [
       "[{'is_link_only': False,\n",
       "  'name': 'daily_rainfall_2014.png',\n",
       "  'supplied_md5': 'fd32a2ffde300a31f8d63b1825d47e5e',\n",
       "  'computed_md5': 'fd32a2ffde300a31f8d63b1825d47e5e',\n",
       "  'id': 26579150,\n",
       "  'download_url': 'https://ndownloader.figshare.com/files/26579150',\n",
       "  'size': 58863},\n",
       " {'is_link_only': False,\n",
       "  'name': 'environment.yml',\n",
       "  'supplied_md5': '060b2020017eed93a1ee7dd8c65b2f34',\n",
       "  'computed_md5': '060b2020017eed93a1ee7dd8c65b2f34',\n",
       "  'id': 26579171,\n",
       "  'download_url': 'https://ndownloader.figshare.com/files/26579171',\n",
       "  'size': 192},\n",
       " {'is_link_only': False,\n",
       "  'name': 'README.md',\n",
       "  'supplied_md5': '61858c6cc0e6a6d6663a7e4c75bbd88c',\n",
       "  'computed_md5': '61858c6cc0e6a6d6663a7e4c75bbd88c',\n",
       "  'id': 26586554,\n",
       "  'download_url': 'https://ndownloader.figshare.com/files/26586554',\n",
       "  'size': 5422},\n",
       " {'is_link_only': False,\n",
       "  'name': 'data.zip',\n",
       "  'supplied_md5': 'b517383f76e77bd03755a63a8ff83ee9',\n",
       "  'computed_md5': 'b517383f76e77bd03755a63a8ff83ee9',\n",
       "  'id': 26766812,\n",
       "  'download_url': 'https://ndownloader.figshare.com/files/26766812',\n",
       "  'size': 814041183},\n",
       " {'is_link_only': False,\n",
       "  'name': 'get_data.py',\n",
       "  'supplied_md5': '7829028495fd9dec9680ea013474afa6',\n",
       "  'computed_md5': '7829028495fd9dec9680ea013474afa6',\n",
       "  'id': 26766815,\n",
       "  'download_url': 'https://ndownloader.figshare.com/files/26766815',\n",
       "  'size': 4113}]"
      ]
     },
     "execution_count": 5,
     "metadata": {},
     "output_type": "execute_result"
    }
   ],
   "source": [
    "response = requests.request(\"GET\", url, headers=headers)\n",
    "data = json.loads(response.text)  # this contains all the articles data, feel free to check it out\n",
    "files = data[\"files\"]             # this is just the data about the files, which is what we want\n",
    "files"
   ]
  },
  {
   "cell_type": "markdown",
<<<<<<< HEAD
   "id": "behind-calvin",
=======
   "id": "labeled-telescope",
>>>>>>> 2b761171454b72c82fbab84153a93e3b9edee23a
   "metadata": {},
   "source": [
    "## 2. Unzipping Data"
   ]
  },
  {
   "cell_type": "code",
<<<<<<< HEAD
   "execution_count": 6,
   "id": "abstract-hundred",
=======
   "execution_count": 5,
   "id": "varying-sally",
>>>>>>> 2b761171454b72c82fbab84153a93e3b9edee23a
   "metadata": {},
   "outputs": [
    {
     "name": "stdout",
     "output_type": "stream",
     "text": [
<<<<<<< HEAD
      "CPU times: user 3.61 s, sys: 3.5 s, total: 7.11 s\n",
      "Wall time: 1min 24s\n"
=======
      "CPU times: user 4.32 s, sys: 4.55 s, total: 8.87 s\n",
      "Wall time: 1min 38s\n"
>>>>>>> 2b761171454b72c82fbab84153a93e3b9edee23a
     ]
    }
   ],
   "source": [
    "%%time\n",
    "files_to_dl = [\"data.zip\"]  # feel free to add other files here\n",
    "for file in files:\n",
    "    if file[\"name\"] in files_to_dl:\n",
    "        os.makedirs(output_directory, exist_ok=True)\n",
    "        urlretrieve(file[\"download_url\"], output_directory + file[\"name\"])"
   ]
  },
  {
   "cell_type": "code",
<<<<<<< HEAD
   "execution_count": 7,
   "id": "considered-coordinate",
=======
   "execution_count": 6,
   "id": "certain-franchise",
>>>>>>> 2b761171454b72c82fbab84153a93e3b9edee23a
   "metadata": {},
   "outputs": [
    {
     "name": "stdout",
     "output_type": "stream",
     "text": [
<<<<<<< HEAD
      "CPU times: user 15.3 s, sys: 2.63 s, total: 17.9 s\n",
      "Wall time: 21.3 s\n"
=======
      "CPU times: user 15.4 s, sys: 2.29 s, total: 17.7 s\n",
      "Wall time: 18 s\n"
>>>>>>> 2b761171454b72c82fbab84153a93e3b9edee23a
     ]
    }
   ],
   "source": [
    "%%time\n",
    "with zipfile.ZipFile(os.path.join(output_directory, \"data.zip\"), 'r') as f:\n",
    "    f.extractall(output_directory)"
   ]
  },
  {
   "cell_type": "markdown",
<<<<<<< HEAD
   "id": "surprising-locator",
=======
   "id": "honest-catalyst",
>>>>>>> 2b761171454b72c82fbab84153a93e3b9edee23a
   "metadata": {},
   "source": [
    "## 3. Combining data CSVs"
   ]
  },
  {
   "cell_type": "code",
<<<<<<< HEAD
   "execution_count": 8,
   "id": "careful-occasion",
=======
   "execution_count": 7,
   "id": "gorgeous-divorce",
>>>>>>> 2b761171454b72c82fbab84153a93e3b9edee23a
   "metadata": {},
   "outputs": [
    {
     "data": {
      "text/html": [
       "<div>\n",
       "<style scoped>\n",
       "    .dataframe tbody tr th:only-of-type {\n",
       "        vertical-align: middle;\n",
       "    }\n",
       "\n",
       "    .dataframe tbody tr th {\n",
       "        vertical-align: top;\n",
       "    }\n",
       "\n",
       "    .dataframe thead th {\n",
       "        text-align: right;\n",
       "    }\n",
       "</style>\n",
       "<table border=\"1\" class=\"dataframe\">\n",
       "  <thead>\n",
       "    <tr style=\"text-align: right;\">\n",
       "      <th></th>\n",
       "      <th>time</th>\n",
       "      <th>lat_min</th>\n",
       "      <th>lat_max</th>\n",
       "      <th>lon_min</th>\n",
       "      <th>lon_max</th>\n",
       "      <th>rain (mm/day)</th>\n",
       "    </tr>\n",
       "  </thead>\n",
       "  <tbody>\n",
       "    <tr>\n",
       "      <th>0</th>\n",
       "      <td>1889-01-01 12:00:00</td>\n",
       "      <td>-36.25</td>\n",
       "      <td>-35.00</td>\n",
       "      <td>140.625</td>\n",
       "      <td>142.50</td>\n",
       "      <td>3.293256e-13</td>\n",
       "    </tr>\n",
       "    <tr>\n",
       "      <th>1</th>\n",
       "      <td>1889-01-02 12:00:00</td>\n",
       "      <td>-36.25</td>\n",
       "      <td>-35.00</td>\n",
       "      <td>140.625</td>\n",
       "      <td>142.50</td>\n",
       "      <td>0.000000e+00</td>\n",
       "    </tr>\n",
       "    <tr>\n",
       "      <th>2</th>\n",
       "      <td>1889-01-03 12:00:00</td>\n",
       "      <td>-36.25</td>\n",
       "      <td>-35.00</td>\n",
       "      <td>140.625</td>\n",
       "      <td>142.50</td>\n",
       "      <td>0.000000e+00</td>\n",
       "    </tr>\n",
       "    <tr>\n",
       "      <th>3</th>\n",
       "      <td>1889-01-04 12:00:00</td>\n",
       "      <td>-36.25</td>\n",
       "      <td>-35.00</td>\n",
       "      <td>140.625</td>\n",
       "      <td>142.50</td>\n",
       "      <td>0.000000e+00</td>\n",
       "    </tr>\n",
       "    <tr>\n",
       "      <th>4</th>\n",
       "      <td>1889-01-05 12:00:00</td>\n",
       "      <td>-36.25</td>\n",
       "      <td>-35.00</td>\n",
       "      <td>140.625</td>\n",
       "      <td>142.50</td>\n",
       "      <td>1.047658e-02</td>\n",
       "    </tr>\n",
       "    <tr>\n",
       "      <th>...</th>\n",
       "      <td>...</td>\n",
       "      <td>...</td>\n",
       "      <td>...</td>\n",
       "      <td>...</td>\n",
       "      <td>...</td>\n",
       "      <td>...</td>\n",
       "    </tr>\n",
       "    <tr>\n",
       "      <th>1932835</th>\n",
       "      <td>2014-12-27 12:00:00</td>\n",
       "      <td>-30.00</td>\n",
       "      <td>-28.75</td>\n",
       "      <td>151.875</td>\n",
       "      <td>153.75</td>\n",
       "      <td>2.951144e-02</td>\n",
       "    </tr>\n",
       "    <tr>\n",
       "      <th>1932836</th>\n",
       "      <td>2014-12-28 12:00:00</td>\n",
       "      <td>-30.00</td>\n",
       "      <td>-28.75</td>\n",
       "      <td>151.875</td>\n",
       "      <td>153.75</td>\n",
       "      <td>2.257118e-01</td>\n",
       "    </tr>\n",
       "    <tr>\n",
       "      <th>1932837</th>\n",
       "      <td>2014-12-29 12:00:00</td>\n",
       "      <td>-30.00</td>\n",
       "      <td>-28.75</td>\n",
       "      <td>151.875</td>\n",
       "      <td>153.75</td>\n",
       "      <td>1.204670e-01</td>\n",
       "    </tr>\n",
       "    <tr>\n",
       "      <th>1932838</th>\n",
       "      <td>2014-12-30 12:00:00</td>\n",
       "      <td>-30.00</td>\n",
       "      <td>-28.75</td>\n",
       "      <td>151.875</td>\n",
       "      <td>153.75</td>\n",
       "      <td>2.632404e-02</td>\n",
       "    </tr>\n",
       "    <tr>\n",
       "      <th>1932839</th>\n",
       "      <td>2014-12-31 12:00:00</td>\n",
       "      <td>-30.00</td>\n",
       "      <td>-28.75</td>\n",
       "      <td>151.875</td>\n",
       "      <td>153.75</td>\n",
       "      <td>3.431610e-02</td>\n",
       "    </tr>\n",
       "  </tbody>\n",
       "</table>\n",
       "<p>1932840 rows × 6 columns</p>\n",
       "</div>"
      ],
      "text/plain": [
       "                        time  lat_min  lat_max  lon_min  lon_max  \\\n",
       "0        1889-01-01 12:00:00   -36.25   -35.00  140.625   142.50   \n",
       "1        1889-01-02 12:00:00   -36.25   -35.00  140.625   142.50   \n",
       "2        1889-01-03 12:00:00   -36.25   -35.00  140.625   142.50   \n",
       "3        1889-01-04 12:00:00   -36.25   -35.00  140.625   142.50   \n",
       "4        1889-01-05 12:00:00   -36.25   -35.00  140.625   142.50   \n",
       "...                      ...      ...      ...      ...      ...   \n",
       "1932835  2014-12-27 12:00:00   -30.00   -28.75  151.875   153.75   \n",
       "1932836  2014-12-28 12:00:00   -30.00   -28.75  151.875   153.75   \n",
       "1932837  2014-12-29 12:00:00   -30.00   -28.75  151.875   153.75   \n",
       "1932838  2014-12-30 12:00:00   -30.00   -28.75  151.875   153.75   \n",
       "1932839  2014-12-31 12:00:00   -30.00   -28.75  151.875   153.75   \n",
       "\n",
       "         rain (mm/day)  \n",
       "0         3.293256e-13  \n",
       "1         0.000000e+00  \n",
       "2         0.000000e+00  \n",
       "3         0.000000e+00  \n",
       "4         1.047658e-02  \n",
       "...                ...  \n",
       "1932835   2.951144e-02  \n",
       "1932836   2.257118e-01  \n",
       "1932837   1.204670e-01  \n",
       "1932838   2.632404e-02  \n",
       "1932839   3.431610e-02  \n",
       "\n",
       "[1932840 rows x 6 columns]"
      ]
     },
     "execution_count": 8,
     "metadata": {},
     "output_type": "execute_result"
    }
   ],
   "source": [
    "df = pd.read_csv(\"./figsharerainfall/ACCESS-CM2_daily_rainfall_NSW.csv\")\n",
    "df"
   ]
  },
  {
   "cell_type": "code",
<<<<<<< HEAD
   "execution_count": 9,
   "id": "lovely-italy",
=======
   "execution_count": 8,
   "id": "empty-editing",
>>>>>>> 2b761171454b72c82fbab84153a93e3b9edee23a
   "metadata": {},
   "outputs": [
    {
     "name": "stdout",
     "output_type": "stream",
     "text": [
<<<<<<< HEAD
      "peak memory: 406.21 MiB, increment: 0.05 MiB\n",
      "CPU times: user 14min 15s, sys: 53.2 s, total: 15min 8s\n",
      "Wall time: 15min 36s\n"
=======
      "peak memory: 405.83 MiB, increment: 0.04 MiB\n",
      "CPU times: user 5min 12s, sys: 11.7 s, total: 5min 23s\n",
      "Wall time: 5min 28s\n"
>>>>>>> 2b761171454b72c82fbab84153a93e3b9edee23a
     ]
    }
   ],
   "source": [
    "%%time\n",
    "%memit\n",
    "# Shows time that regular python takes to merge file\n",
    "# Join all data together\n",
    "## here we are using a normal python way of merging the data \n",
    "\n",
    "files = glob.glob('figsharerainfall/*NSW.csv')\n",
    "df = pd.concat((pd.read_csv(file, index_col=0)\n",
    "                .assign(model=re.findall(r'/([^_]*)', file)[0])\n",
    "                for file in files)\n",
    "              )\n",
    "df.to_csv(\"figsharerainfall/combined_data.csv\")"
   ]
  },
  {
   "cell_type": "markdown",
   "id": "sunrise-future",
   "metadata": {},
   "source": [
    "The following table summerizes the `cpu times` and `Wall time` of combining csv files for all team members.\n",
    "\n",
    "|   |  Memory Usage |  CPU Time  | Wall Time  | OS  |  Memory (RAM) |  CPUs   |\n",
    "|---|---|---|---|---|---|---|\n",
    "|  Heidi | 0.04 MiB  | 6min 45s  | 7min 10s  |  mac OS Catalina | 16 GB 3733 MHz LPDDR4X | 2 GHz Quad-Core Intel Core i5   |\n",
    "| Junting  | 0.05 MiB  |  15min 8s | 15min 36s  | mac OS Catalina  |16GB of 2400MHz DDR4 | 2.6GHz 6-core Intel Core i7   |\n",
    "| Kamal  |  0.79 MiB |  9min 20s  |  9min 43s | Windows 10 Pro  | 8 GB DDR4 SDRAM |  Intel Core i7-8650U Quad-Core  |\n",
    "|  Tammay | 0.04 MiB  | 5min 23s  |  5min 28s |   |   |   |"
   ]
  },
  {
   "cell_type": "code",
<<<<<<< HEAD
   "execution_count": 10,
   "id": "false-drove",
=======
   "execution_count": 9,
   "id": "induced-error",
>>>>>>> 2b761171454b72c82fbab84153a93e3b9edee23a
   "metadata": {},
   "outputs": [],
   "source": [
    "df_combined = pd.read_csv(\"./figsharerainfall/combined_data.csv\")"
   ]
  },
  {
   "cell_type": "code",
<<<<<<< HEAD
   "execution_count": 11,
   "id": "accepted-williams",
=======
   "execution_count": 10,
   "id": "painful-premiere",
>>>>>>> 2b761171454b72c82fbab84153a93e3b9edee23a
   "metadata": {},
   "outputs": [
    {
     "data": {
      "text/html": [
       "<div>\n",
       "<style scoped>\n",
       "    .dataframe tbody tr th:only-of-type {\n",
       "        vertical-align: middle;\n",
       "    }\n",
       "\n",
       "    .dataframe tbody tr th {\n",
       "        vertical-align: top;\n",
       "    }\n",
       "\n",
       "    .dataframe thead th {\n",
       "        text-align: right;\n",
       "    }\n",
       "</style>\n",
       "<table border=\"1\" class=\"dataframe\">\n",
       "  <thead>\n",
       "    <tr style=\"text-align: right;\">\n",
       "      <th></th>\n",
       "      <th>time</th>\n",
       "      <th>lat_min</th>\n",
       "      <th>lat_max</th>\n",
       "      <th>lon_min</th>\n",
       "      <th>lon_max</th>\n",
       "      <th>rain (mm/day)</th>\n",
       "      <th>model</th>\n",
       "    </tr>\n",
       "  </thead>\n",
       "  <tbody>\n",
       "    <tr>\n",
       "      <th>0</th>\n",
       "      <td>1889-01-01 12:00:00</td>\n",
       "      <td>-35.439867</td>\n",
       "      <td>-33.574619</td>\n",
       "      <td>141.5625</td>\n",
       "      <td>143.4375</td>\n",
       "      <td>4.244226e-13</td>\n",
       "      <td>MPI-ESM-1-2-HAM</td>\n",
       "    </tr>\n",
       "    <tr>\n",
       "      <th>1</th>\n",
       "      <td>1889-01-02 12:00:00</td>\n",
       "      <td>-35.439867</td>\n",
       "      <td>-33.574619</td>\n",
       "      <td>141.5625</td>\n",
       "      <td>143.4375</td>\n",
       "      <td>4.217326e-13</td>\n",
       "      <td>MPI-ESM-1-2-HAM</td>\n",
       "    </tr>\n",
       "    <tr>\n",
       "      <th>2</th>\n",
       "      <td>1889-01-03 12:00:00</td>\n",
       "      <td>-35.439867</td>\n",
       "      <td>-33.574619</td>\n",
       "      <td>141.5625</td>\n",
       "      <td>143.4375</td>\n",
       "      <td>4.498125e-13</td>\n",
       "      <td>MPI-ESM-1-2-HAM</td>\n",
       "    </tr>\n",
       "    <tr>\n",
       "      <th>3</th>\n",
       "      <td>1889-01-04 12:00:00</td>\n",
       "      <td>-35.439867</td>\n",
       "      <td>-33.574619</td>\n",
       "      <td>141.5625</td>\n",
       "      <td>143.4375</td>\n",
       "      <td>4.251282e-13</td>\n",
       "      <td>MPI-ESM-1-2-HAM</td>\n",
       "    </tr>\n",
       "    <tr>\n",
       "      <th>4</th>\n",
       "      <td>1889-01-05 12:00:00</td>\n",
       "      <td>-35.439867</td>\n",
       "      <td>-33.574619</td>\n",
       "      <td>141.5625</td>\n",
       "      <td>143.4375</td>\n",
       "      <td>4.270161e-13</td>\n",
       "      <td>MPI-ESM-1-2-HAM</td>\n",
       "    </tr>\n",
       "    <tr>\n",
       "      <th>...</th>\n",
       "      <td>...</td>\n",
       "      <td>...</td>\n",
       "      <td>...</td>\n",
       "      <td>...</td>\n",
       "      <td>...</td>\n",
       "      <td>...</td>\n",
       "      <td>...</td>\n",
       "    </tr>\n",
       "    <tr>\n",
<<<<<<< HEAD
       "      <th>145560503</th>\n",
=======
       "      <th>62467838</th>\n",
>>>>>>> 2b761171454b72c82fbab84153a93e3b9edee23a
       "      <td>2014-12-27 12:00:00</td>\n",
       "      <td>-30.157068</td>\n",
       "      <td>-29.214660</td>\n",
       "      <td>153.1250</td>\n",
       "      <td>154.3750</td>\n",
       "      <td>6.689683e+00</td>\n",
       "      <td>SAM0-UNICON</td>\n",
       "    </tr>\n",
       "    <tr>\n",
<<<<<<< HEAD
       "      <th>145560504</th>\n",
=======
       "      <th>62467839</th>\n",
>>>>>>> 2b761171454b72c82fbab84153a93e3b9edee23a
       "      <td>2014-12-28 12:00:00</td>\n",
       "      <td>-30.157068</td>\n",
       "      <td>-29.214660</td>\n",
       "      <td>153.1250</td>\n",
       "      <td>154.3750</td>\n",
       "      <td>7.862555e+00</td>\n",
       "      <td>SAM0-UNICON</td>\n",
       "    </tr>\n",
       "    <tr>\n",
<<<<<<< HEAD
       "      <th>145560505</th>\n",
=======
       "      <th>62467840</th>\n",
>>>>>>> 2b761171454b72c82fbab84153a93e3b9edee23a
       "      <td>2014-12-29 12:00:00</td>\n",
       "      <td>-30.157068</td>\n",
       "      <td>-29.214660</td>\n",
       "      <td>153.1250</td>\n",
       "      <td>154.3750</td>\n",
       "      <td>1.000503e+01</td>\n",
       "      <td>SAM0-UNICON</td>\n",
       "    </tr>\n",
       "    <tr>\n",
<<<<<<< HEAD
       "      <th>145560506</th>\n",
=======
       "      <th>62467841</th>\n",
>>>>>>> 2b761171454b72c82fbab84153a93e3b9edee23a
       "      <td>2014-12-30 12:00:00</td>\n",
       "      <td>-30.157068</td>\n",
       "      <td>-29.214660</td>\n",
       "      <td>153.1250</td>\n",
       "      <td>154.3750</td>\n",
       "      <td>8.541592e+00</td>\n",
       "      <td>SAM0-UNICON</td>\n",
       "    </tr>\n",
       "    <tr>\n",
<<<<<<< HEAD
       "      <th>145560507</th>\n",
=======
       "      <th>62467842</th>\n",
>>>>>>> 2b761171454b72c82fbab84153a93e3b9edee23a
       "      <td>2014-12-31 12:00:00</td>\n",
       "      <td>-30.157068</td>\n",
       "      <td>-29.214660</td>\n",
       "      <td>153.1250</td>\n",
       "      <td>154.3750</td>\n",
       "      <td>6.811749e+01</td>\n",
       "      <td>SAM0-UNICON</td>\n",
       "    </tr>\n",
       "  </tbody>\n",
       "</table>\n",
<<<<<<< HEAD
       "<p>145560508 rows × 7 columns</p>\n",
       "</div>"
      ],
      "text/plain": [
       "                          time    lat_min    lat_max   lon_min   lon_max  \\\n",
       "0          1889-01-01 12:00:00 -35.439867 -33.574619  141.5625  143.4375   \n",
       "1          1889-01-02 12:00:00 -35.439867 -33.574619  141.5625  143.4375   \n",
       "2          1889-01-03 12:00:00 -35.439867 -33.574619  141.5625  143.4375   \n",
       "3          1889-01-04 12:00:00 -35.439867 -33.574619  141.5625  143.4375   \n",
       "4          1889-01-05 12:00:00 -35.439867 -33.574619  141.5625  143.4375   \n",
       "...                        ...        ...        ...       ...       ...   \n",
       "145560503  2014-12-27 12:00:00 -30.157068 -29.214660  153.1250  154.3750   \n",
       "145560504  2014-12-28 12:00:00 -30.157068 -29.214660  153.1250  154.3750   \n",
       "145560505  2014-12-29 12:00:00 -30.157068 -29.214660  153.1250  154.3750   \n",
       "145560506  2014-12-30 12:00:00 -30.157068 -29.214660  153.1250  154.3750   \n",
       "145560507  2014-12-31 12:00:00 -30.157068 -29.214660  153.1250  154.3750   \n",
       "\n",
       "           rain (mm/day)            model  \n",
       "0           4.244226e-13  MPI-ESM-1-2-HAM  \n",
       "1           4.217326e-13  MPI-ESM-1-2-HAM  \n",
       "2           4.498125e-13  MPI-ESM-1-2-HAM  \n",
       "3           4.251282e-13  MPI-ESM-1-2-HAM  \n",
       "4           4.270161e-13  MPI-ESM-1-2-HAM  \n",
       "...                  ...              ...  \n",
       "145560503   6.689683e+00      SAM0-UNICON  \n",
       "145560504   7.862555e+00      SAM0-UNICON  \n",
       "145560505   1.000503e+01      SAM0-UNICON  \n",
       "145560506   8.541592e+00      SAM0-UNICON  \n",
       "145560507   6.811749e+01      SAM0-UNICON  \n",
       "\n",
       "[145560508 rows x 7 columns]"
=======
       "<p>62467843 rows × 7 columns</p>\n",
       "</div>"
      ],
      "text/plain": [
       "                         time    lat_min    lat_max   lon_min   lon_max  \\\n",
       "0         1889-01-01 12:00:00 -35.439867 -33.574619  141.5625  143.4375   \n",
       "1         1889-01-02 12:00:00 -35.439867 -33.574619  141.5625  143.4375   \n",
       "2         1889-01-03 12:00:00 -35.439867 -33.574619  141.5625  143.4375   \n",
       "3         1889-01-04 12:00:00 -35.439867 -33.574619  141.5625  143.4375   \n",
       "4         1889-01-05 12:00:00 -35.439867 -33.574619  141.5625  143.4375   \n",
       "...                       ...        ...        ...       ...       ...   \n",
       "62467838  2014-12-27 12:00:00 -30.157068 -29.214660  153.1250  154.3750   \n",
       "62467839  2014-12-28 12:00:00 -30.157068 -29.214660  153.1250  154.3750   \n",
       "62467840  2014-12-29 12:00:00 -30.157068 -29.214660  153.1250  154.3750   \n",
       "62467841  2014-12-30 12:00:00 -30.157068 -29.214660  153.1250  154.3750   \n",
       "62467842  2014-12-31 12:00:00 -30.157068 -29.214660  153.1250  154.3750   \n",
       "\n",
       "          rain (mm/day)            model  \n",
       "0          4.244226e-13  MPI-ESM-1-2-HAM  \n",
       "1          4.217326e-13  MPI-ESM-1-2-HAM  \n",
       "2          4.498125e-13  MPI-ESM-1-2-HAM  \n",
       "3          4.251282e-13  MPI-ESM-1-2-HAM  \n",
       "4          4.270161e-13  MPI-ESM-1-2-HAM  \n",
       "...                 ...              ...  \n",
       "62467838   6.689683e+00      SAM0-UNICON  \n",
       "62467839   7.862555e+00      SAM0-UNICON  \n",
       "62467840   1.000503e+01      SAM0-UNICON  \n",
       "62467841   8.541592e+00      SAM0-UNICON  \n",
       "62467842   6.811749e+01      SAM0-UNICON  \n",
       "\n",
       "[62467843 rows x 7 columns]"
>>>>>>> 2b761171454b72c82fbab84153a93e3b9edee23a
      ]
     },
     "execution_count": 11,
     "metadata": {},
     "output_type": "execute_result"
    }
   ],
   "source": [
    "df_combined"
   ]
  },
  {
   "cell_type": "code",
<<<<<<< HEAD
   "execution_count": 12,
   "id": "generic-qatar",
=======
   "execution_count": 11,
   "id": "another-curtis",
>>>>>>> 2b761171454b72c82fbab84153a93e3b9edee23a
   "metadata": {},
   "outputs": [
    {
     "data": {
      "text/plain": [
       "array(['MPI-ESM-1-2-HAM', 'AWI-ESM-1-1-LR', 'NorESM2-LM', 'ACCESS-CM2',\n",
       "       'FGOALS-f3-L', 'CMCC-CM2-HR4', 'MRI-ESM2-0', 'GFDL-CM4',\n",
       "       'BCC-CSM2-MR', 'EC-Earth3-Veg-LR', 'CMCC-ESM2', 'NESM3',\n",
       "       'MPI-ESM1-2-LR', 'ACCESS-ESM1-5', 'FGOALS-g3', 'INM-CM4-8',\n",
       "       'MPI-ESM1-2-HR', 'TaiESM1', 'NorESM2-MM', 'CMCC-CM2-SR5',\n",
       "       'KIOST-ESM', 'INM-CM5-0', 'MIROC6', 'BCC-ESM1', 'GFDL-ESM4',\n",
       "       'CanESM5', 'SAM0-UNICON'], dtype=object)"
      ]
     },
     "execution_count": 12,
     "metadata": {},
     "output_type": "execute_result"
    }
   ],
   "source": [
    "df_combined[\"model\"].unique()"
   ]
  },
  {
   "cell_type": "code",
<<<<<<< HEAD
   "execution_count": 13,
   "id": "willing-vault",
=======
   "execution_count": 12,
   "id": "concrete-dutch",
>>>>>>> 2b761171454b72c82fbab84153a93e3b9edee23a
   "metadata": {},
   "outputs": [
    {
     "name": "stdout",
     "output_type": "stream",
     "text": [
<<<<<<< HEAD
      " 13G\tfigshareairline/combined_data.csv\n"
=======
      "5.6G\tfigsharerainfall/combined_data.csv\n"
>>>>>>> 2b761171454b72c82fbab84153a93e3b9edee23a
     ]
    }
   ],
   "source": [
    "%%sh\n",
    "du -sh figsharerainfall/combined_data.csv"
   ]
  },
  {
   "cell_type": "markdown",
<<<<<<< HEAD
   "id": "corresponding-embassy",
=======
   "id": "mediterranean-cause",
>>>>>>> 2b761171454b72c82fbab84153a93e3b9edee23a
   "metadata": {},
   "source": [
    "## 4. Load the combined CSV to memory and perform a simple EDA"
   ]
  },
  {
   "cell_type": "code",
<<<<<<< HEAD
   "execution_count": 14,
   "id": "japanese-turtle",
=======
   "execution_count": 13,
   "id": "played-round",
>>>>>>> 2b761171454b72c82fbab84153a93e3b9edee23a
   "metadata": {},
   "outputs": [
    {
     "name": "stdout",
     "output_type": "stream",
     "text": [
<<<<<<< HEAD
      "combined            83046645\n",
      "MPI-ESM1-2-HR        5154240\n",
      "NorESM2-MM           3541230\n",
      "CMCC-ESM2            3541230\n",
      "TaiESM1              3541230\n",
      "CMCC-CM2-SR5         3541230\n",
      "CMCC-CM2-HR4         3541230\n",
      "SAM0-UNICON          3541153\n",
      "GFDL-CM4             3219300\n",
      "GFDL-ESM4            3219300\n",
      "FGOALS-f3-L          3219300\n",
      "MRI-ESM2-0           3037320\n",
      "EC-Earth3-Veg-LR     3037320\n",
      "BCC-CSM2-MR          3035340\n",
      "MIROC6               2070900\n",
      "ACCESS-CM2           1932840\n",
      "ACCESS-ESM1-5        1610700\n",
      "INM-CM5-0            1609650\n",
      "INM-CM4-8            1609650\n",
      "KIOST-ESM            1287720\n",
      "FGOALS-g3            1287720\n",
      "MPI-ESM-1-2-HAM       966420\n",
      "AWI-ESM-1-1-LR        966420\n",
      "NESM3                 966420\n",
      "MPI-ESM1-2-LR         966420\n",
      "NorESM2-LM            919800\n",
      "BCC-ESM1              551880\n",
      "CanESM5               551880\n",
      "observed               46020\n",
      "Name: model, dtype: int64\n",
      "peak memory: 9511.82 MiB, increment: 4149.87 MiB\n",
      "CPU times: user 2min 11s, sys: 42.4 s, total: 2min 54s\n",
      "Wall time: 3min 11s\n"
=======
      "MPI-ESM1-2-HR       5154240\n",
      "CMCC-ESM2           3541230\n",
      "TaiESM1             3541230\n",
      "CMCC-CM2-HR4        3541230\n",
      "CMCC-CM2-SR5        3541230\n",
      "NorESM2-MM          3541230\n",
      "SAM0-UNICON         3541153\n",
      "GFDL-CM4            3219300\n",
      "FGOALS-f3-L         3219300\n",
      "GFDL-ESM4           3219300\n",
      "EC-Earth3-Veg-LR    3037320\n",
      "MRI-ESM2-0          3037320\n",
      "BCC-CSM2-MR         3035340\n",
      "MIROC6              2070900\n",
      "ACCESS-CM2          1932840\n",
      "ACCESS-ESM1-5       1610700\n",
      "INM-CM4-8           1609650\n",
      "INM-CM5-0           1609650\n",
      "FGOALS-g3           1287720\n",
      "KIOST-ESM           1287720\n",
      "MPI-ESM1-2-LR        966420\n",
      "NESM3                966420\n",
      "MPI-ESM-1-2-HAM      966420\n",
      "AWI-ESM-1-1-LR       966420\n",
      "NorESM2-LM           919800\n",
      "BCC-ESM1             551880\n",
      "CanESM5              551880\n",
      "Name: model, dtype: int64\n",
      "peak memory: 8843.36 MiB, increment: 3921.75 MiB\n",
      "CPU times: user 51.1 s, sys: 10.5 s, total: 1min 1s\n",
      "Wall time: 1min 4s\n"
>>>>>>> 2b761171454b72c82fbab84153a93e3b9edee23a
     ]
    }
   ],
   "source": [
    "%%time\n",
    "%%memit\n",
    "#simple pandas - This is how we do normally ,which means we are loading the entire data to the memory\n",
    "df = pd.read_csv(\"figsharerainfall/combined_data.csv\")\n",
    "print(df[\"model\"].value_counts())"
   ]
  },
  {
   "cell_type": "markdown",
   "id": "promotional-rubber",
   "metadata": {},
   "source": [
    "\n",
    "\n",
    "|   |  Memory Usage |  CPU Time  | Wall Time  | OS  |  Memory (RAM) |  CPUs   |\n",
    "|---|---|---|---|---|---|---|\n",
    "|  Heidi | 2933.94 MiB  | 54.9 s  | 1min 20s  |  mac OS Catalina | 16 GB 3733 MHz LPDDR4X | 2 GHz Quad-Core Intel Core i5   |\n",
    "| Junting  | 4149.87 MiB  |  2min 54s | 3min 11s  | mac OS Catalina  |16GB of 2400MHz DDR4 | 2.6GHz 6-core Intel Core i7   |\n",
    "| Kamal  |  1084.17 MiB |  4min 20s  |  4min 46s | Windows 10 Pro  | 8 GB DDR4 SDRAM |  Intel Core i7-8650U Quad-Core  |\n",
    "|  Tammay | 3921.75 MiB  | 1min 1s  | 1min 4s  |   |   |   |"
   ]
  },
  {
   "cell_type": "code",
<<<<<<< HEAD
   "execution_count": 15,
   "id": "hired-education",
=======
   "execution_count": 14,
   "id": "fleet-cotton",
>>>>>>> 2b761171454b72c82fbab84153a93e3b9edee23a
   "metadata": {},
   "outputs": [
    {
     "data": {
      "text/html": [
       "<div>\n",
       "<style scoped>\n",
       "    .dataframe tbody tr th:only-of-type {\n",
       "        vertical-align: middle;\n",
       "    }\n",
       "\n",
       "    .dataframe tbody tr th {\n",
       "        vertical-align: top;\n",
       "    }\n",
       "\n",
       "    .dataframe thead th {\n",
       "        text-align: right;\n",
       "    }\n",
       "</style>\n",
       "<table border=\"1\" class=\"dataframe\">\n",
       "  <thead>\n",
       "    <tr style=\"text-align: right;\">\n",
       "      <th></th>\n",
       "      <th>time</th>\n",
       "      <th>lat_min</th>\n",
       "      <th>lat_max</th>\n",
       "      <th>lon_min</th>\n",
       "      <th>lon_max</th>\n",
       "      <th>rain (mm/day)</th>\n",
       "      <th>model</th>\n",
       "    </tr>\n",
       "  </thead>\n",
       "  <tbody>\n",
       "    <tr>\n",
       "      <th>0</th>\n",
       "      <td>1889-01-01 12:00:00</td>\n",
       "      <td>-35.439867</td>\n",
       "      <td>-33.574619</td>\n",
       "      <td>141.5625</td>\n",
       "      <td>143.4375</td>\n",
       "      <td>4.244226e-13</td>\n",
       "      <td>MPI-ESM-1-2-HAM</td>\n",
       "    </tr>\n",
       "    <tr>\n",
       "      <th>1</th>\n",
       "      <td>1889-01-02 12:00:00</td>\n",
       "      <td>-35.439867</td>\n",
       "      <td>-33.574619</td>\n",
       "      <td>141.5625</td>\n",
       "      <td>143.4375</td>\n",
       "      <td>4.217326e-13</td>\n",
       "      <td>MPI-ESM-1-2-HAM</td>\n",
       "    </tr>\n",
       "    <tr>\n",
       "      <th>2</th>\n",
       "      <td>1889-01-03 12:00:00</td>\n",
       "      <td>-35.439867</td>\n",
       "      <td>-33.574619</td>\n",
       "      <td>141.5625</td>\n",
       "      <td>143.4375</td>\n",
       "      <td>4.498125e-13</td>\n",
       "      <td>MPI-ESM-1-2-HAM</td>\n",
       "    </tr>\n",
       "    <tr>\n",
       "      <th>3</th>\n",
       "      <td>1889-01-04 12:00:00</td>\n",
       "      <td>-35.439867</td>\n",
       "      <td>-33.574619</td>\n",
       "      <td>141.5625</td>\n",
       "      <td>143.4375</td>\n",
       "      <td>4.251282e-13</td>\n",
       "      <td>MPI-ESM-1-2-HAM</td>\n",
       "    </tr>\n",
       "    <tr>\n",
       "      <th>4</th>\n",
       "      <td>1889-01-05 12:00:00</td>\n",
       "      <td>-35.439867</td>\n",
       "      <td>-33.574619</td>\n",
       "      <td>141.5625</td>\n",
       "      <td>143.4375</td>\n",
       "      <td>4.270161e-13</td>\n",
       "      <td>MPI-ESM-1-2-HAM</td>\n",
       "    </tr>\n",
       "  </tbody>\n",
       "</table>\n",
       "</div>"
      ],
      "text/plain": [
       "                  time    lat_min    lat_max   lon_min   lon_max  \\\n",
       "0  1889-01-01 12:00:00 -35.439867 -33.574619  141.5625  143.4375   \n",
       "1  1889-01-02 12:00:00 -35.439867 -33.574619  141.5625  143.4375   \n",
       "2  1889-01-03 12:00:00 -35.439867 -33.574619  141.5625  143.4375   \n",
       "3  1889-01-04 12:00:00 -35.439867 -33.574619  141.5625  143.4375   \n",
       "4  1889-01-05 12:00:00 -35.439867 -33.574619  141.5625  143.4375   \n",
       "\n",
       "   rain (mm/day)            model  \n",
       "0   4.244226e-13  MPI-ESM-1-2-HAM  \n",
       "1   4.217326e-13  MPI-ESM-1-2-HAM  \n",
       "2   4.498125e-13  MPI-ESM-1-2-HAM  \n",
       "3   4.251282e-13  MPI-ESM-1-2-HAM  \n",
       "4   4.270161e-13  MPI-ESM-1-2-HAM  "
      ]
     },
     "execution_count": 15,
     "metadata": {},
     "output_type": "execute_result"
    }
   ],
   "source": [
    "df.head()"
   ]
  },
  {
   "cell_type": "code",
<<<<<<< HEAD
   "execution_count": 16,
   "id": "paperback-elder",
=======
   "execution_count": 15,
   "id": "electric-newark",
>>>>>>> 2b761171454b72c82fbab84153a93e3b9edee23a
   "metadata": {},
   "outputs": [
    {
     "data": {
      "text/plain": [
       "time              object\n",
       "lat_min          float64\n",
       "lat_max          float64\n",
       "lon_min          float64\n",
       "lon_max          float64\n",
       "rain (mm/day)    float64\n",
       "model             object\n",
       "dtype: object"
      ]
     },
     "execution_count": 16,
     "metadata": {},
     "output_type": "execute_result"
    }
   ],
   "source": [
    "#checking datatypes for columns\n",
    "df.dtypes"
   ]
  },
  {
   "cell_type": "markdown",
<<<<<<< HEAD
   "id": "eligible-scheme",
=======
   "id": "together-northeast",
>>>>>>> 2b761171454b72c82fbab84153a93e3b9edee23a
   "metadata": {},
   "source": [
    "### 4.1. Investigate approaches to reduce memory usage while performing the EDA "
   ]
  },
  {
   "cell_type": "markdown",
<<<<<<< HEAD
   "id": "general-rings",
=======
   "id": "essential-ethernet",
>>>>>>> 2b761171454b72c82fbab84153a93e3b9edee23a
   "metadata": {},
   "source": [
    "### 4.1.1. Changing dtype of the data"
   ]
  },
  {
   "cell_type": "code",
<<<<<<< HEAD
   "execution_count": 17,
   "id": "bulgarian-merchandise",
=======
   "execution_count": 16,
   "id": "objective-opinion",
>>>>>>> 2b761171454b72c82fbab84153a93e3b9edee23a
   "metadata": {},
   "outputs": [
    {
     "name": "stdout",
     "output_type": "stream",
     "text": [
<<<<<<< HEAD
      "Memory usage with float64: 3493.45 MB\n",
      "Memory usage with float32: 1746.73 MB\n"
=======
      "Memory usage with float64: 1499.23 MB\n",
      "Memory usage with float32: 749.61 MB\n"
>>>>>>> 2b761171454b72c82fbab84153a93e3b9edee23a
     ]
    }
   ],
   "source": [
    "print(f\"Memory usage with float64: {df[['lat_min','lat_max','rain (mm/day)']].memory_usage().sum() / 1e6:.2f} MB\")\n",
    "print(f\"Memory usage with float32: {df[['lat_min','lat_max','rain (mm/day)']].astype('float32', errors='ignore').memory_usage().sum() / 1e6:.2f} MB\")"
   ]
  },
  {
   "cell_type": "markdown",
<<<<<<< HEAD
   "id": "enhanced-parent",
=======
   "id": "honey-principle",
>>>>>>> 2b761171454b72c82fbab84153a93e3b9edee23a
   "metadata": {},
   "source": [
    "### 4.1.2. Loading data in chunks using Pandas"
   ]
  },
  {
   "cell_type": "code",
<<<<<<< HEAD
   "execution_count": 18,
   "id": "circular-involvement",
=======
   "execution_count": 17,
   "id": "capable-emerald",
>>>>>>> 2b761171454b72c82fbab84153a93e3b9edee23a
   "metadata": {},
   "outputs": [
    {
     "name": "stdout",
     "output_type": "stream",
     "text": [
<<<<<<< HEAD
      "ACCESS-CM2           1932840\n",
      "ACCESS-ESM1-5        1610700\n",
      "AWI-ESM-1-1-LR        966420\n",
      "BCC-CSM2-MR          3035340\n",
      "BCC-ESM1              551880\n",
      "CMCC-CM2-HR4         3541230\n",
      "CMCC-CM2-SR5         3541230\n",
      "CMCC-ESM2            3541230\n",
      "CanESM5               551880\n",
      "EC-Earth3-Veg-LR     3037320\n",
      "FGOALS-f3-L          3219300\n",
      "FGOALS-g3            1287720\n",
      "GFDL-CM4             3219300\n",
      "GFDL-ESM4            3219300\n",
      "INM-CM4-8            1609650\n",
      "INM-CM5-0            1609650\n",
      "KIOST-ESM            1287720\n",
      "MIROC6               2070900\n",
      "MPI-ESM-1-2-HAM       966420\n",
      "MPI-ESM1-2-HR        5154240\n",
      "MPI-ESM1-2-LR         966420\n",
      "MRI-ESM2-0           3037320\n",
      "NESM3                 966420\n",
      "NorESM2-LM            919800\n",
      "NorESM2-MM           3541230\n",
      "SAM0-UNICON          3541153\n",
      "TaiESM1              3541230\n",
      "combined            83046645\n",
      "observed               46020\n",
      "dtype: int64\n",
      "peak memory: 8678.78 MiB, increment: 2163.42 MiB\n",
      "CPU times: user 2min 5s, sys: 13 s, total: 2min 18s\n",
      "Wall time: 2min 19s\n"
=======
      "ACCESS-CM2          1932840\n",
      "ACCESS-ESM1-5       1610700\n",
      "AWI-ESM-1-1-LR       966420\n",
      "BCC-CSM2-MR         3035340\n",
      "BCC-ESM1             551880\n",
      "CMCC-CM2-HR4        3541230\n",
      "CMCC-CM2-SR5        3541230\n",
      "CMCC-ESM2           3541230\n",
      "CanESM5              551880\n",
      "EC-Earth3-Veg-LR    3037320\n",
      "FGOALS-f3-L         3219300\n",
      "FGOALS-g3           1287720\n",
      "GFDL-CM4            3219300\n",
      "GFDL-ESM4           3219300\n",
      "INM-CM4-8           1609650\n",
      "INM-CM5-0           1609650\n",
      "KIOST-ESM           1287720\n",
      "MIROC6              2070900\n",
      "MPI-ESM-1-2-HAM      966420\n",
      "MPI-ESM1-2-HR       5154240\n",
      "MPI-ESM1-2-LR        966420\n",
      "MRI-ESM2-0          3037320\n",
      "NESM3                966420\n",
      "NorESM2-LM           919800\n",
      "NorESM2-MM          3541230\n",
      "SAM0-UNICON         3541153\n",
      "TaiESM1             3541230\n",
      "dtype: int64\n",
      "peak memory: 7288.75 MiB, increment: 1271.02 MiB\n",
      "CPU times: user 49.9 s, sys: 5.72 s, total: 55.6 s\n",
      "Wall time: 56.5 s\n"
>>>>>>> 2b761171454b72c82fbab84153a93e3b9edee23a
     ]
    }
   ],
   "source": [
    "%%time\n",
    "%%memit\n",
    "counts = pd.Series(dtype=int)\n",
    "for chunk in pd.read_csv(\"figsharerainfall/combined_data.csv\", chunksize=10_000_000):\n",
    "    counts = counts.add(chunk[\"model\"].value_counts(), fill_value=0)\n",
    "print(counts.astype(int))"
   ]
  },
  {
   "cell_type": "markdown",
<<<<<<< HEAD
   "id": "instructional-member",
=======
   "id": "electronic-general",
   "metadata": {},
   "source": [
    "\n",
    "\n",
    "|   |  Memory Usage |  CPU Time  | Wall Time  | OS  |  Memory (RAM) |  CPUs   |\n",
    "|---|---|---|---|---|---|---|\n",
    "|  Heidi | 5967.77 MiB | 53 s  | 1min 2s |  mac OS Catalina | 16 GB 3733 MHz LPDDR4X | 2 GHz Quad-Core Intel Core i5   |\n",
    "| Junting  |2163.42  | 2min 18s | 2min 19s | mac OS Catalina  |16GB of 2400MHz DDR4 | 2.6GHz 6-core Intel Core i7   |\n",
    "| Kamal  |  1619.86 MiB |  1min 54s  |  1min 59s | Windows 10 Pro  | 8 GB DDR4 SDRAM |  Intel Core i7-8650U Quad-Core  |\n",
    "|  Tammay |  1271.02 MiB | 55.6 s  |  56.5 s |   |   |   |"
   ]
  },
  {
   "cell_type": "markdown",
   "id": "widespread-content",
>>>>>>> 2b761171454b72c82fbab84153a93e3b9edee23a
   "metadata": {},
   "source": [
    "### 4.1.2. Loading data using Dask"
   ]
  },
  {
   "cell_type": "code",
<<<<<<< HEAD
   "execution_count": 19,
   "id": "israeli-trout",
=======
   "execution_count": 18,
   "id": "bulgarian-criterion",
>>>>>>> 2b761171454b72c82fbab84153a93e3b9edee23a
   "metadata": {},
   "outputs": [
    {
     "name": "stdout",
     "output_type": "stream",
     "text": [
<<<<<<< HEAD
      "combined            83046645\n",
      "MPI-ESM1-2-HR        5154240\n",
      "CMCC-ESM2            3541230\n",
      "NorESM2-MM           3541230\n",
      "TaiESM1              3541230\n",
      "CMCC-CM2-HR4         3541230\n",
      "CMCC-CM2-SR5         3541230\n",
      "SAM0-UNICON          3541153\n",
      "FGOALS-f3-L          3219300\n",
      "GFDL-CM4             3219300\n",
      "GFDL-ESM4            3219300\n",
      "EC-Earth3-Veg-LR     3037320\n",
      "MRI-ESM2-0           3037320\n",
      "BCC-CSM2-MR          3035340\n",
      "MIROC6               2070900\n",
      "ACCESS-CM2           1932840\n",
      "ACCESS-ESM1-5        1610700\n",
      "INM-CM4-8            1609650\n",
      "INM-CM5-0            1609650\n",
      "KIOST-ESM            1287720\n",
      "FGOALS-g3            1287720\n",
      "MPI-ESM-1-2-HAM       966420\n",
      "MPI-ESM1-2-LR         966420\n",
      "NESM3                 966420\n",
      "AWI-ESM-1-1-LR        966420\n",
      "NorESM2-LM            919800\n",
      "CanESM5               551880\n",
      "BCC-ESM1              551880\n",
      "observed               46020\n",
      "Name: model, dtype: int64\n",
      "peak memory: 4932.27 MiB, increment: 1817.48 MiB\n",
      "CPU times: user 3min 5s, sys: 38.4 s, total: 3min 43s\n",
      "Wall time: 1min 19s\n"
=======
      "MPI-ESM1-2-HR       5154240\n",
      "TaiESM1             3541230\n",
      "NorESM2-MM          3541230\n",
      "CMCC-CM2-HR4        3541230\n",
      "CMCC-CM2-SR5        3541230\n",
      "CMCC-ESM2           3541230\n",
      "SAM0-UNICON         3541153\n",
      "FGOALS-f3-L         3219300\n",
      "GFDL-CM4            3219300\n",
      "GFDL-ESM4           3219300\n",
      "EC-Earth3-Veg-LR    3037320\n",
      "MRI-ESM2-0          3037320\n",
      "BCC-CSM2-MR         3035340\n",
      "MIROC6              2070900\n",
      "ACCESS-CM2          1932840\n",
      "ACCESS-ESM1-5       1610700\n",
      "INM-CM5-0           1609650\n",
      "INM-CM4-8           1609650\n",
      "KIOST-ESM           1287720\n",
      "FGOALS-g3           1287720\n",
      "MPI-ESM1-2-LR        966420\n",
      "NESM3                966420\n",
      "AWI-ESM-1-1-LR       966420\n",
      "MPI-ESM-1-2-HAM      966420\n",
      "NorESM2-LM           919800\n",
      "BCC-ESM1             551880\n",
      "CanESM5              551880\n",
      "Name: model, dtype: int64\n",
      "peak memory: 6834.18 MiB, increment: 1797.21 MiB\n",
      "CPU times: user 1min 14s, sys: 17 s, total: 1min 31s\n",
      "Wall time: 34.3 s\n"
>>>>>>> 2b761171454b72c82fbab84153a93e3b9edee23a
     ]
    }
   ],
   "source": [
    "%%time\n",
    "%%memit\n",
    "# dask way\n",
    "# Here again I am using dask to read that csv file. Remember internally its loading chunks and doing it parallely.\n",
    "# here see cpu time greater than wall time \n",
    "ddf = dd.read_csv('figsharerainfall/combined_data.csv')\n",
    "print(ddf[\"model\"].value_counts().compute())"
   ]
  },
  {
   "cell_type": "markdown",
<<<<<<< HEAD
   "id": "quick-claim",
=======
   "id": "induced-action",
   "metadata": {},
   "source": [
    "\n",
    "\n",
    "|   |  Memory Usage |  CPU Time  | Wall Time  | OS  |  Memory (RAM) |  CPUs   |\n",
    "|---|---|---|---|---|---|---|\n",
    "|  Heidi | 4714.38 MiB  | 1min 32s  | 42.6 s  |  mac OS Catalina | 16 GB 3733 MHz LPDDR4X | 2 GHz Quad-Core Intel Core i5   |\n",
    "| Junting  | 1817.48 MiB  | 3min 43s | 1min 19s  | mac OS Catalina  |16GB of 2400MHz DDR4 | 2.6GHz 6-core Intel Core i7   |\n",
    "| Kamal  |  1690.57 MiB|  2min 24s  |  1min 2s | Windows 10 Pro  | 8 GB DDR4 SDRAM |  Intel Core i7-8650U Quad-Core  |\n",
    "|  Tammay |  1797.21 MiB | 1min 31s  |  34.3 s |   |   |   |"
   ]
  },
  {
   "cell_type": "markdown",
   "id": "defined-import",
>>>>>>> 2b761171454b72c82fbab84153a93e3b9edee23a
   "metadata": {},
   "source": [
    "### 4.2. Discuss your observations.\n",
    "\n",
    "- Memory usage with float32: 750.17 MB was almost half of the memory usage with float64: 1500.33 MB.\n",
    "- Loading data in chunks with Pandas reduced sys time and thus overall wall time.\n",
    "- We notice that the wall time went down with dask and CPU time was higher than wall time, suggesting CPU was performing operations in parallel. "
   ]
  },
  {
   "cell_type": "markdown",
<<<<<<< HEAD
   "id": "laughing-wisconsin",
=======
   "id": "sticky-aberdeen",
>>>>>>> 2b761171454b72c82fbab84153a93e3b9edee23a
   "metadata": {},
   "source": [
    "### 5. Perform a simple EDA in R"
   ]
  },
  {
   "cell_type": "code",
<<<<<<< HEAD
   "execution_count": 20,
   "id": "spoken-brake",
=======
   "execution_count": 19,
   "id": "satisfied-review",
>>>>>>> 2b761171454b72c82fbab84153a93e3b9edee23a
   "metadata": {},
   "outputs": [
    {
     "name": "stdout",
     "output_type": "stream",
     "text": [
<<<<<<< HEAD
      "peak memory: 4949.60 MiB, increment: 2079.94 MiB\n",
      "CPU times: user 40.4 s, sys: 26.9 s, total: 1min 7s\n",
      "Wall time: 1min\n"
=======
      "peak memory: 6125.78 MiB, increment: 1593.14 MiB\n",
      "CPU times: user 16.9 s, sys: 8.89 s, total: 25.8 s\n",
      "Wall time: 23.1 s\n"
>>>>>>> 2b761171454b72c82fbab84153a93e3b9edee23a
     ]
    }
   ],
   "source": [
    "%%time\n",
    "%%memit\n",
    "## read more on the datasets here  https://arrow.apache.org/docs/python/dataset.html\n",
    "dataset = ds.dataset(\"figsharerainfall/combined_data.csv\", format=\"csv\")\n",
    "## this is of arrow table format\n",
    "table = dataset.to_table()"
   ]
  },
  {
   "cell_type": "code",
<<<<<<< HEAD
   "execution_count": 21,
   "id": "biological-german",
=======
   "execution_count": 20,
   "id": "clear-martin",
>>>>>>> 2b761171454b72c82fbab84153a93e3b9edee23a
   "metadata": {},
   "outputs": [
    {
     "name": "stdout",
     "output_type": "stream",
     "text": [
<<<<<<< HEAD
      "CPU times: user 9.46 s, sys: 22.7 s, total: 32.1 s\n",
      "Wall time: 18.3 s\n"
=======
      "CPU times: user 4.02 s, sys: 10.2 s, total: 14.2 s\n",
      "Wall time: 5.5 s\n"
>>>>>>> 2b761171454b72c82fbab84153a93e3b9edee23a
     ]
    }
   ],
   "source": [
    "%%time\n",
    "# experiment in writing in feather format \n",
    "feather.write_feather(table, 'figsharerainfall/combined_data.feather')"
   ]
  },
  {
   "cell_type": "code",
<<<<<<< HEAD
   "execution_count": 22,
   "id": "august-cycle",
=======
   "execution_count": 21,
   "id": "southeast-battlefield",
>>>>>>> 2b761171454b72c82fbab84153a93e3b9edee23a
   "metadata": {},
   "outputs": [
    {
     "name": "stdout",
     "output_type": "stream",
     "text": [
<<<<<<< HEAD
      "peak memory: 8789.11 MiB, increment: 661.22 MiB\n",
      "CPU times: user 42.5 s, sys: 54.2 s, total: 1min 36s\n",
      "Wall time: 1min 29s\n"
=======
      "peak memory: 6780.22 MiB, increment: 115.49 MiB\n",
      "CPU times: user 18 s, sys: 15.9 s, total: 33.9 s\n",
      "Wall time: 30.3 s\n"
>>>>>>> 2b761171454b72c82fbab84153a93e3b9edee23a
     ]
    }
   ],
   "source": [
    "%%time\n",
    "%%memit\n",
    "## read more on the datasets here  https://arrow.apache.org/docs/python/dataset.html\n",
    "dataset = ds.dataset(\"figsharerainfall/combined_data.csv\", format=\"csv\")\n",
    "## this is of arrow table format\n",
    "table = dataset.to_table()"
   ]
  },
  {
   "cell_type": "code",
<<<<<<< HEAD
   "execution_count": 23,
   "id": "wound-extraction",
=======
   "execution_count": 22,
   "id": "provincial-oasis",
>>>>>>> 2b761171454b72c82fbab84153a93e3b9edee23a
   "metadata": {},
   "outputs": [
    {
     "name": "stdout",
     "output_type": "stream",
     "text": [
<<<<<<< HEAD
      "CPU times: user 9.74 s, sys: 18.9 s, total: 28.6 s\n",
      "Wall time: 11.9 s\n"
=======
      "CPU times: user 3.95 s, sys: 6.41 s, total: 10.4 s\n",
      "Wall time: 3.32 s\n"
>>>>>>> 2b761171454b72c82fbab84153a93e3b9edee23a
     ]
    }
   ],
   "source": [
    "%%time\n",
    "# experiment in writing in feather format \n",
    "feather.write_feather(table, 'figsharerainfall/combined_data.feather')"
   ]
  },
  {
   "cell_type": "code",
<<<<<<< HEAD
   "execution_count": 24,
   "id": "communist-attitude",
=======
   "execution_count": 23,
   "id": "local-calculator",
>>>>>>> 2b761171454b72c82fbab84153a93e3b9edee23a
   "metadata": {},
   "outputs": [
    {
     "name": "stderr",
     "output_type": "stream",
     "text": [
      "R[write to console]: \n",
      "Attaching package: ‘arrow’\n",
      "\n",
      "\n",
      "R[write to console]: The following object is masked from ‘package:utils’:\n",
      "\n",
      "    timestamp\n",
      "\n",
      "\n"
     ]
    },
    {
<<<<<<< HEAD
     "name": "stdout",
     "output_type": "stream",
     "text": [
      "[1] \"tbl_df\"     \"tbl\"        \"data.frame\"\n"
     ]
    },
    {
     "name": "stderr",
     "output_type": "stream",
     "text": [
      "R[write to console]: \n",
      "Attaching package: ‘dplyr’\n",
      "\n",
      "\n",
      "R[write to console]: The following objects are masked from ‘package:stats’:\n",
      "\n",
      "    filter, lag\n",
      "\n",
      "\n",
      "R[write to console]: The following objects are masked from ‘package:base’:\n",
      "\n",
      "    intersect, setdiff, setequal, union\n",
      "\n",
      "\n"
     ]
    },
    {
     "name": "stdout",
     "output_type": "stream",
     "text": [
      "\u001b[90m# A tibble: 29 x 2\u001b[39m\n",
      "   model                 n\n",
      "   \u001b[3m\u001b[90m<chr>\u001b[39m\u001b[23m             \u001b[3m\u001b[90m<int>\u001b[39m\u001b[23m\n",
      "\u001b[90m 1\u001b[39m ACCESS-CM2      1\u001b[4m9\u001b[24m\u001b[4m3\u001b[24m\u001b[4m2\u001b[24m840\n",
      "\u001b[90m 2\u001b[39m ACCESS-ESM1-5   1\u001b[4m6\u001b[24m\u001b[4m1\u001b[24m\u001b[4m0\u001b[24m700\n",
      "\u001b[90m 3\u001b[39m AWI-ESM-1-1-LR   \u001b[4m9\u001b[24m\u001b[4m6\u001b[24m\u001b[4m6\u001b[24m420\n",
      "\u001b[90m 4\u001b[39m BCC-CSM2-MR     3\u001b[4m0\u001b[24m\u001b[4m3\u001b[24m\u001b[4m5\u001b[24m340\n",
      "\u001b[90m 5\u001b[39m BCC-ESM1         \u001b[4m5\u001b[24m\u001b[4m5\u001b[24m\u001b[4m1\u001b[24m880\n",
      "\u001b[90m 6\u001b[39m CanESM5          \u001b[4m5\u001b[24m\u001b[4m5\u001b[24m\u001b[4m1\u001b[24m880\n",
      "\u001b[90m 7\u001b[39m CMCC-CM2-HR4    3\u001b[4m5\u001b[24m\u001b[4m4\u001b[24m\u001b[4m1\u001b[24m230\n",
      "\u001b[90m 8\u001b[39m CMCC-CM2-SR5    3\u001b[4m5\u001b[24m\u001b[4m4\u001b[24m\u001b[4m1\u001b[24m230\n",
      "\u001b[90m 9\u001b[39m CMCC-ESM2       3\u001b[4m5\u001b[24m\u001b[4m4\u001b[24m\u001b[4m1\u001b[24m230\n",
      "\u001b[90m10\u001b[39m combined       83\u001b[4m0\u001b[24m\u001b[4m4\u001b[24m\u001b[4m6\u001b[24m645\n",
      "\u001b[90m# … with 19 more rows\u001b[39m\n",
      "Time difference of 47.66623 secs\n",
      "CPU times: user 25.1 s, sys: 58 s, total: 1min 23s\n",
      "Wall time: 49.9 s\n"
=======
     "name": "stdout",
     "output_type": "stream",
     "text": [
      "[1] \"tbl_df\"     \"tbl\"        \"data.frame\"\n"
     ]
    },
    {
     "name": "stderr",
     "output_type": "stream",
     "text": [
      "R[write to console]: \n",
      "Attaching package: ‘dplyr’\n",
      "\n",
      "\n",
      "R[write to console]: The following objects are masked from ‘package:stats’:\n",
      "\n",
      "    filter, lag\n",
      "\n",
      "\n",
      "R[write to console]: The following objects are masked from ‘package:base’:\n",
      "\n",
      "    intersect, setdiff, setequal, union\n",
      "\n",
      "\n"
     ]
    },
    {
     "name": "stdout",
     "output_type": "stream",
     "text": [
      "\u001b[90m# A tibble: 27 x 2\u001b[39m\n",
      "   model                  n\n",
      "   \u001b[3m\u001b[90m<chr>\u001b[39m\u001b[23m              \u001b[3m\u001b[90m<int>\u001b[39m\u001b[23m\n",
      "\u001b[90m 1\u001b[39m ACCESS-CM2       1\u001b[4m9\u001b[24m\u001b[4m3\u001b[24m\u001b[4m2\u001b[24m840\n",
      "\u001b[90m 2\u001b[39m ACCESS-ESM1-5    1\u001b[4m6\u001b[24m\u001b[4m1\u001b[24m\u001b[4m0\u001b[24m700\n",
      "\u001b[90m 3\u001b[39m AWI-ESM-1-1-LR    \u001b[4m9\u001b[24m\u001b[4m6\u001b[24m\u001b[4m6\u001b[24m420\n",
      "\u001b[90m 4\u001b[39m BCC-CSM2-MR      3\u001b[4m0\u001b[24m\u001b[4m3\u001b[24m\u001b[4m5\u001b[24m340\n",
      "\u001b[90m 5\u001b[39m BCC-ESM1          \u001b[4m5\u001b[24m\u001b[4m5\u001b[24m\u001b[4m1\u001b[24m880\n",
      "\u001b[90m 6\u001b[39m CanESM5           \u001b[4m5\u001b[24m\u001b[4m5\u001b[24m\u001b[4m1\u001b[24m880\n",
      "\u001b[90m 7\u001b[39m CMCC-CM2-HR4     3\u001b[4m5\u001b[24m\u001b[4m4\u001b[24m\u001b[4m1\u001b[24m230\n",
      "\u001b[90m 8\u001b[39m CMCC-CM2-SR5     3\u001b[4m5\u001b[24m\u001b[4m4\u001b[24m\u001b[4m1\u001b[24m230\n",
      "\u001b[90m 9\u001b[39m CMCC-ESM2        3\u001b[4m5\u001b[24m\u001b[4m4\u001b[24m\u001b[4m1\u001b[24m230\n",
      "\u001b[90m10\u001b[39m EC-Earth3-Veg-LR 3\u001b[4m0\u001b[24m\u001b[4m3\u001b[24m\u001b[4m7\u001b[24m320\n",
      "\u001b[90m# … with 17 more rows\u001b[39m\n",
      "Time difference of 13.26638 secs\n",
      "CPU times: user 10 s, sys: 19.4 s, total: 29.4 s\n",
      "Wall time: 15.3 s\n"
>>>>>>> 2b761171454b72c82fbab84153a93e3b9edee23a
     ]
    }
   ],
   "source": [
    "%%time\n",
    "%%R\n",
    "### here we are showing how much time it took to read a feather file what we wrote in python\n",
    "library(arrow)\n",
    "start_time <- Sys.time()\n",
    "r_table <- arrow::read_feather(\"figsharerainfall/combined_data.feather\")\n",
    "print(class(r_table))\n",
    "library(dplyr)\n",
    "result <- r_table %>% count(model)\n",
    "end_time <- Sys.time()\n",
    "print(result)\n",
    "print(end_time - start_time)"
   ]
  },
  {
   "cell_type": "code",
<<<<<<< HEAD
   "execution_count": 25,
   "id": "diagnostic-tunisia",
=======
   "execution_count": 24,
   "id": "permanent-macintosh",
>>>>>>> 2b761171454b72c82fbab84153a93e3b9edee23a
   "metadata": {},
   "outputs": [
    {
     "name": "stderr",
     "output_type": "stream",
     "text": [
<<<<<<< HEAD
      "R[write to console]: Error in library(tidyverse) : there is no package called ‘tidyverse’\n",
=======
      "R[write to console]: ── \u001b[1mAttaching packages\u001b[22m ─────────────────────────────────────── tidyverse 1.3.0 ──\n",
      "\n",
      "R[write to console]: \u001b[32m✔\u001b[39m \u001b[34mggplot2\u001b[39m 3.3.3     \u001b[32m✔\u001b[39m \u001b[34mpurrr  \u001b[39m 0.3.4\n",
      "\u001b[32m✔\u001b[39m \u001b[34mtibble \u001b[39m 3.1.0     \u001b[32m✔\u001b[39m \u001b[34mstringr\u001b[39m 1.4.0\n",
      "\u001b[32m✔\u001b[39m \u001b[34mtidyr  \u001b[39m 1.1.3     \u001b[32m✔\u001b[39m \u001b[34mforcats\u001b[39m 0.5.1\n",
      "\u001b[32m✔\u001b[39m \u001b[34mreadr  \u001b[39m 1.4.0     \n",
      "\n",
      "R[write to console]: ── \u001b[1mConflicts\u001b[22m ────────────────────────────────────────── tidyverse_conflicts() ──\n",
      "\u001b[31m✖\u001b[39m \u001b[34mdplyr\u001b[39m::\u001b[32mfilter()\u001b[39m masks \u001b[34mstats\u001b[39m::filter()\n",
      "\u001b[31m✖\u001b[39m \u001b[34mdplyr\u001b[39m::\u001b[32mlag()\u001b[39m    masks \u001b[34mstats\u001b[39m::lag()\n",
>>>>>>> 2b761171454b72c82fbab84153a93e3b9edee23a
      "\n"
     ]
    },
    {
     "name": "stdout",
     "output_type": "stream",
     "text": [
<<<<<<< HEAD
      "\n",
      "Error in library(tidyverse) : there is no package called ‘tidyverse’\n"
=======
      "\u001b[90m# A tibble: 1 x 5\u001b[39m\n",
      "  median_lat_min median_lat_max median_lon_min median_lon_max median_rain\n",
      "           \u001b[3m\u001b[90m<dbl>\u001b[39m\u001b[23m          \u001b[3m\u001b[90m<dbl>\u001b[39m\u001b[23m          \u001b[3m\u001b[90m<dbl>\u001b[39m\u001b[23m          \u001b[3m\u001b[90m<dbl>\u001b[39m\u001b[23m       \u001b[3m\u001b[90m<dbl>\u001b[39m\u001b[23m\n",
      "\u001b[90m1\u001b[39m            -\u001b[31m33\u001b[39m          -\u001b[31m32\u001b[39m\u001b[31m.\u001b[39m\u001b[31m0\u001b[39m           147.           148.      0.061\u001b[4m5\u001b[24m\n"
>>>>>>> 2b761171454b72c82fbab84153a93e3b9edee23a
     ]
    }
   ],
   "source": [
    "%%R\n",
    "\n",
    "library(tidyverse)\n",
    "\n",
    "r_table <- r_table %>% rename(rain_mmperday = `rain (mm/day)`)\n",
    "\n",
    "summary_table <- r_table %>%\n",
    "    drop_na() %>%\n",
    "    summarise(median_lat_min = median(lat_min),\n",
    "             median_lat_max = median(lat_max),\n",
    "             median_lon_min = median(lon_min),\n",
    "             median_lon_max = median(lon_max),\n",
    "             median_rain = median(rain_mmperday))\n",
    "    \n",
    "summary_table\n"
   ]
  },
  {
   "cell_type": "markdown",
<<<<<<< HEAD
   "id": "usual-federal",
=======
   "id": "occasional-month",
   "metadata": {},
   "source": [
    "### 5.1 Discuss why you chose this approach over others"
   ]
  },
  {
   "cell_type": "markdown",
   "id": "fleet-thought",
>>>>>>> 2b761171454b72c82fbab84153a93e3b9edee23a
   "metadata": {},
   "source": [
    "### Reasons to choose feather\n",
    "\n",
    "We chose `feather file format` based on the following reasons:\n",
    "\n",
    "- The `feather` file format is **faster** compared with the `parquet` file and `arrow exchange` while writing files. It writes data with lesser serialization and deserialization that would result in a higher input/output speed. As we can see in our case, the Wall time for writing the feather file is almost half of the parquet file's wall time. \n",
    "- The `feather` file format can effectively **transfer between python and R programming languages** due to the embedded API that would result in faster reading and writing data using R.\n",
    "- `Feather` also takes **fewer memories** compared with the CSV file format. We can see that the CSV file takes `5.7 GB` while the feather file format takes `1.1 GB` space. \n",
    "\n",
    "- We observed that the `partitioned.parquet` and `parquet files` take less space than the `feather` file format. However, the higher speed of writing and reading feather speeds the data queries and analysis.\n",
    "\n",
    "- `Arrow` only support some operations. The `feather` does not have this limitation.\n",
    "\n",
    "In summary, feather was selected over Parquet, Pandas Exchange, and Arrow Exchange for its comparatively high I/O speed, minimal memory on disk, and the fact that unpacking is not necessary for the data to be loaded back into RAM. Additionally, feather is relatively easy to use and is a suitable choice since the intent is not term storage. "
   ]
<<<<<<< HEAD
=======
  },
  {
   "cell_type": "code",
   "execution_count": null,
   "id": "frequent-timeline",
   "metadata": {},
   "outputs": [],
   "source": []
>>>>>>> 2b761171454b72c82fbab84153a93e3b9edee23a
  }
 ],
 "metadata": {
  "kernelspec": {
   "display_name": "Python [conda env:525]",
   "language": "python",
   "name": "conda-env-525-py"
  },
  "language_info": {
   "codemirror_mode": {
    "name": "ipython",
    "version": 3
   },
   "file_extension": ".py",
   "mimetype": "text/x-python",
   "name": "python",
   "nbconvert_exporter": "python",
   "pygments_lexer": "ipython3",
   "version": "3.9.2"
  }
 },
 "nbformat": 4,
 "nbformat_minor": 5
}
