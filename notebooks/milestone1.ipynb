{
 "cells": [
  {
   "cell_type": "code",
   "execution_count": 2,
   "id": "fatty-vacuum",
   "metadata": {},
   "outputs": [],
   "source": [
    "import re\n",
    "import os\n",
    "import glob\n",
    "import zipfile\n",
    "import requests\n",
    "from urllib.request import urlretrieve\n",
    "import json\n",
    "import pandas as pd\n",
    "from memory_profiler import memory_usage"
   ]
  },
  {
   "cell_type": "code",
   "execution_count": 3,
   "id": "human-threshold",
   "metadata": {},
   "outputs": [],
   "source": [
    "%load_ext rpy2.ipython\n",
    "%load_ext memory_profiler"
   ]
  },
  {
   "cell_type": "markdown",
   "id": "vanilla-ordinance",
   "metadata": {},
   "source": [
    "## Downloading the data"
   ]
  },
  {
   "cell_type": "code",
   "execution_count": 5,
   "id": "nasty-cattle",
   "metadata": {},
   "outputs": [],
   "source": [
    "# Necessary metadata\n",
    "article_id = 14096681  # this is the unique identifier of the article on figshare\n",
    "url = f\"https://api.figshare.com/v2/articles/{article_id}\"\n",
    "headers = {\"Content-Type\": \"application/json\"}\n",
    "output_directory = \"figshareairline/\""
   ]
  },
  {
   "cell_type": "code",
   "execution_count": 6,
   "id": "bigger-webster",
   "metadata": {},
   "outputs": [
    {
     "data": {
      "text/plain": [
       "[{'is_link_only': False,\n",
       "  'name': 'daily_rainfall_2014.png',\n",
       "  'supplied_md5': 'fd32a2ffde300a31f8d63b1825d47e5e',\n",
       "  'computed_md5': 'fd32a2ffde300a31f8d63b1825d47e5e',\n",
       "  'id': 26579150,\n",
       "  'download_url': 'https://ndownloader.figshare.com/files/26579150',\n",
       "  'size': 58863},\n",
       " {'is_link_only': False,\n",
       "  'name': 'environment.yml',\n",
       "  'supplied_md5': '060b2020017eed93a1ee7dd8c65b2f34',\n",
       "  'computed_md5': '060b2020017eed93a1ee7dd8c65b2f34',\n",
       "  'id': 26579171,\n",
       "  'download_url': 'https://ndownloader.figshare.com/files/26579171',\n",
       "  'size': 192},\n",
       " {'is_link_only': False,\n",
       "  'name': 'README.md',\n",
       "  'supplied_md5': '61858c6cc0e6a6d6663a7e4c75bbd88c',\n",
       "  'computed_md5': '61858c6cc0e6a6d6663a7e4c75bbd88c',\n",
       "  'id': 26586554,\n",
       "  'download_url': 'https://ndownloader.figshare.com/files/26586554',\n",
       "  'size': 5422},\n",
       " {'is_link_only': False,\n",
       "  'name': 'data.zip',\n",
       "  'supplied_md5': 'b517383f76e77bd03755a63a8ff83ee9',\n",
       "  'computed_md5': 'b517383f76e77bd03755a63a8ff83ee9',\n",
       "  'id': 26766812,\n",
       "  'download_url': 'https://ndownloader.figshare.com/files/26766812',\n",
       "  'size': 814041183},\n",
       " {'is_link_only': False,\n",
       "  'name': 'get_data.py',\n",
       "  'supplied_md5': '7829028495fd9dec9680ea013474afa6',\n",
       "  'computed_md5': '7829028495fd9dec9680ea013474afa6',\n",
       "  'id': 26766815,\n",
       "  'download_url': 'https://ndownloader.figshare.com/files/26766815',\n",
       "  'size': 4113}]"
      ]
     },
     "execution_count": 6,
     "metadata": {},
     "output_type": "execute_result"
    }
   ],
   "source": [
    "response = requests.request(\"GET\", url, headers=headers)\n",
    "data = json.loads(response.text)  # this contains all the articles data, feel free to check it out\n",
    "files = data[\"files\"]             # this is just the data about the files, which is what we want\n",
    "files"
   ]
  },
  {
   "cell_type": "markdown",
   "id": "unknown-attempt",
   "metadata": {},
   "source": [
    "## Unzipping Data"
   ]
  },
  {
   "cell_type": "code",
   "execution_count": 7,
   "id": "danish-surveillance",
   "metadata": {},
   "outputs": [
    {
     "name": "stdout",
     "output_type": "stream",
     "text": [
      "CPU times: user 3.07 s, sys: 3.16 s, total: 6.24 s\n",
      "Wall time: 2min 32s\n"
     ]
    }
   ],
   "source": [
    "%%time\n",
    "files_to_dl = [\"data.zip\"]  # feel free to add other files here\n",
    "for file in files:\n",
    "    if file[\"name\"] in files_to_dl:\n",
    "        os.makedirs(output_directory, exist_ok=True)\n",
    "        urlretrieve(file[\"download_url\"], output_directory + file[\"name\"])"
   ]
  },
  {
   "cell_type": "code",
   "execution_count": 8,
   "id": "suspended-sword",
   "metadata": {},
   "outputs": [
    {
     "name": "stdout",
     "output_type": "stream",
     "text": [
      "CPU times: user 18.2 s, sys: 3.57 s, total: 21.8 s\n",
      "Wall time: 22.5 s\n"
     ]
    }
   ],
   "source": [
    "%%time\n",
    "with zipfile.ZipFile(os.path.join(output_directory, \"data.zip\"), 'r') as f:\n",
    "    f.extractall(output_directory)"
   ]
  },
  {
   "cell_type": "markdown",
   "id": "powerful-specialist",
   "metadata": {},
   "source": [
    "## Combining data CSVs"
   ]
  },
  {
   "cell_type": "code",
   "execution_count": 15,
   "id": "auburn-royal",
   "metadata": {},
   "outputs": [],
   "source": [
    "df = pd.read_csv(\"./figshareairline/ACCESS-CM2_daily_rainfall_NSW.csv\")"
   ]
  },
  {
   "cell_type": "code",
   "execution_count": 18,
   "id": "oriented-chapel",
   "metadata": {},
   "outputs": [
    {
     "data": {
      "text/plain": [
       "Index(['time', 'lat_min', 'lat_max', 'lon_min', 'lon_max', 'rain (mm/day)'], dtype='object')"
      ]
     },
     "execution_count": 18,
     "metadata": {},
     "output_type": "execute_result"
    }
   ],
   "source": [
    "df.columns"
   ]
  },
  {
   "cell_type": "code",
   "execution_count": 24,
   "id": "foster-prototype",
   "metadata": {},
   "outputs": [
    {
     "name": "stdout",
     "output_type": "stream",
     "text": [
      "peak memory: 4406.68 MiB, increment: 0.15 MiB\n",
      "CPU times: user 10min 59s, sys: 38.4 s, total: 11min 38s\n",
      "Wall time: 11min 54s\n"
     ]
    }
   ],
   "source": [
    "%%time\n",
    "%memit\n",
    "# Shows time that regular python takes to merge file\n",
    "# Join all data together\n",
    "## here we are using a normal python way of merging the data \n",
    "import pandas as pd\n",
    "# use_cols = ['time', 'lat_min', 'lat_max', 'lon_min', 'lon_max', 'rain (mm/day)']\n",
    "files = glob.glob('figshareairline/*.csv')\n",
    "df = pd.concat((pd.read_csv(file, index_col=0)\n",
    "                .assign(model=re.findall(r'/([^_]*)', file)[0])\n",
    "                for file in files)\n",
    "              )\n",
    "df.to_csv(\"figshareairline/combined_data.csv\")"
   ]
  },
  {
   "cell_type": "code",
   "execution_count": null,
   "id": "designing-victor",
   "metadata": {},
   "outputs": [],
   "source": [
    "df_combined = pd.read_csv(\"./figshareairline/combined_data.csv\")"
   ]
  },
  {
   "cell_type": "code",
   "execution_count": 23,
   "id": "disciplinary-emerald",
   "metadata": {},
   "outputs": [
    {
     "data": {
      "text/html": [
       "<div>\n",
       "<style scoped>\n",
       "    .dataframe tbody tr th:only-of-type {\n",
       "        vertical-align: middle;\n",
       "    }\n",
       "\n",
       "    .dataframe tbody tr th {\n",
       "        vertical-align: top;\n",
       "    }\n",
       "\n",
       "    .dataframe thead th {\n",
       "        text-align: right;\n",
       "    }\n",
       "</style>\n",
       "<table border=\"1\" class=\"dataframe\">\n",
       "  <thead>\n",
       "    <tr style=\"text-align: right;\">\n",
       "      <th></th>\n",
       "      <th>time</th>\n",
       "      <th>lat_min</th>\n",
       "      <th>lat_max</th>\n",
       "      <th>lon_min</th>\n",
       "      <th>lon_max</th>\n",
       "      <th>rain (mm/day)</th>\n",
       "      <th>model</th>\n",
       "    </tr>\n",
       "  </thead>\n",
       "  <tbody>\n",
       "    <tr>\n",
       "      <th>0</th>\n",
       "      <td>1889-01-01 12:00:00</td>\n",
       "      <td>-35.439867</td>\n",
       "      <td>-33.574619</td>\n",
       "      <td>141.5625</td>\n",
       "      <td>143.4375</td>\n",
       "      <td>4.244226e-13</td>\n",
       "      <td>figshareairline/MPI-ESM-1-2-HAM</td>\n",
       "    </tr>\n",
       "    <tr>\n",
       "      <th>1</th>\n",
       "      <td>1889-01-02 12:00:00</td>\n",
       "      <td>-35.439867</td>\n",
       "      <td>-33.574619</td>\n",
       "      <td>141.5625</td>\n",
       "      <td>143.4375</td>\n",
       "      <td>4.217326e-13</td>\n",
       "      <td>figshareairline/MPI-ESM-1-2-HAM</td>\n",
       "    </tr>\n",
       "    <tr>\n",
       "      <th>2</th>\n",
       "      <td>1889-01-03 12:00:00</td>\n",
       "      <td>-35.439867</td>\n",
       "      <td>-33.574619</td>\n",
       "      <td>141.5625</td>\n",
       "      <td>143.4375</td>\n",
       "      <td>4.498125e-13</td>\n",
       "      <td>figshareairline/MPI-ESM-1-2-HAM</td>\n",
       "    </tr>\n",
       "    <tr>\n",
       "      <th>3</th>\n",
       "      <td>1889-01-04 12:00:00</td>\n",
       "      <td>-35.439867</td>\n",
       "      <td>-33.574619</td>\n",
       "      <td>141.5625</td>\n",
       "      <td>143.4375</td>\n",
       "      <td>4.251282e-13</td>\n",
       "      <td>figshareairline/MPI-ESM-1-2-HAM</td>\n",
       "    </tr>\n",
       "    <tr>\n",
       "      <th>4</th>\n",
       "      <td>1889-01-05 12:00:00</td>\n",
       "      <td>-35.439867</td>\n",
       "      <td>-33.574619</td>\n",
       "      <td>141.5625</td>\n",
       "      <td>143.4375</td>\n",
       "      <td>4.270161e-13</td>\n",
       "      <td>figshareairline/MPI-ESM-1-2-HAM</td>\n",
       "    </tr>\n",
       "    <tr>\n",
       "      <th>...</th>\n",
       "      <td>...</td>\n",
       "      <td>...</td>\n",
       "      <td>...</td>\n",
       "      <td>...</td>\n",
       "      <td>...</td>\n",
       "      <td>...</td>\n",
       "      <td>...</td>\n",
       "    </tr>\n",
       "    <tr>\n",
       "      <th>2499995</th>\n",
       "      <td>1930-11-07 12:00:00</td>\n",
       "      <td>-32.210526</td>\n",
       "      <td>-30.315789</td>\n",
       "      <td>146.2500</td>\n",
       "      <td>148.7500</td>\n",
       "      <td>1.554969e-02</td>\n",
       "      <td>figshareairline/NorESM2-LM</td>\n",
       "    </tr>\n",
       "    <tr>\n",
       "      <th>2499996</th>\n",
       "      <td>1930-11-08 12:00:00</td>\n",
       "      <td>-32.210526</td>\n",
       "      <td>-30.315789</td>\n",
       "      <td>146.2500</td>\n",
       "      <td>148.7500</td>\n",
       "      <td>3.125912e-02</td>\n",
       "      <td>figshareairline/NorESM2-LM</td>\n",
       "    </tr>\n",
       "    <tr>\n",
       "      <th>2499997</th>\n",
       "      <td>1930-11-09 12:00:00</td>\n",
       "      <td>-32.210526</td>\n",
       "      <td>-30.315789</td>\n",
       "      <td>146.2500</td>\n",
       "      <td>148.7500</td>\n",
       "      <td>5.141976e-02</td>\n",
       "      <td>figshareairline/NorESM2-LM</td>\n",
       "    </tr>\n",
       "    <tr>\n",
       "      <th>2499998</th>\n",
       "      <td>1930-11-10 12:00:00</td>\n",
       "      <td>-32.210526</td>\n",
       "      <td>-30.315789</td>\n",
       "      <td>146.2500</td>\n",
       "      <td>148.7500</td>\n",
       "      <td>4.262349e+00</td>\n",
       "      <td>figshareairline/NorESM2-LM</td>\n",
       "    </tr>\n",
       "    <tr>\n",
       "      <th>2499999</th>\n",
       "      <td>1930-11-11 12:00:00</td>\n",
       "      <td>-32.210526</td>\n",
       "      <td>-30.315789</td>\n",
       "      <td>146.2500</td>\n",
       "      <td>148.7500</td>\n",
       "      <td>1.446912e+01</td>\n",
       "      <td>figshareairline/NorESM2-LM</td>\n",
       "    </tr>\n",
       "  </tbody>\n",
       "</table>\n",
       "<p>2500000 rows × 7 columns</p>\n",
       "</div>"
      ],
      "text/plain": [
       "                        time    lat_min    lat_max   lon_min   lon_max  \\\n",
       "0        1889-01-01 12:00:00 -35.439867 -33.574619  141.5625  143.4375   \n",
       "1        1889-01-02 12:00:00 -35.439867 -33.574619  141.5625  143.4375   \n",
       "2        1889-01-03 12:00:00 -35.439867 -33.574619  141.5625  143.4375   \n",
       "3        1889-01-04 12:00:00 -35.439867 -33.574619  141.5625  143.4375   \n",
       "4        1889-01-05 12:00:00 -35.439867 -33.574619  141.5625  143.4375   \n",
       "...                      ...        ...        ...       ...       ...   \n",
       "2499995  1930-11-07 12:00:00 -32.210526 -30.315789  146.2500  148.7500   \n",
       "2499996  1930-11-08 12:00:00 -32.210526 -30.315789  146.2500  148.7500   \n",
       "2499997  1930-11-09 12:00:00 -32.210526 -30.315789  146.2500  148.7500   \n",
       "2499998  1930-11-10 12:00:00 -32.210526 -30.315789  146.2500  148.7500   \n",
       "2499999  1930-11-11 12:00:00 -32.210526 -30.315789  146.2500  148.7500   \n",
       "\n",
       "         rain (mm/day)                            model  \n",
       "0         4.244226e-13  figshareairline/MPI-ESM-1-2-HAM  \n",
       "1         4.217326e-13  figshareairline/MPI-ESM-1-2-HAM  \n",
       "2         4.498125e-13  figshareairline/MPI-ESM-1-2-HAM  \n",
       "3         4.251282e-13  figshareairline/MPI-ESM-1-2-HAM  \n",
       "4         4.270161e-13  figshareairline/MPI-ESM-1-2-HAM  \n",
       "...                ...                              ...  \n",
       "2499995   1.554969e-02       figshareairline/NorESM2-LM  \n",
       "2499996   3.125912e-02       figshareairline/NorESM2-LM  \n",
       "2499997   5.141976e-02       figshareairline/NorESM2-LM  \n",
       "2499998   4.262349e+00       figshareairline/NorESM2-LM  \n",
       "2499999   1.446912e+01       figshareairline/NorESM2-LM  \n",
       "\n",
       "[2500000 rows x 7 columns]"
      ]
     },
     "execution_count": 23,
     "metadata": {},
     "output_type": "execute_result"
    }
   ],
   "source": [
    "df_combined.head(n=2500000)"
   ]
  },
  {
   "cell_type": "code",
   "execution_count": null,
   "id": "planned-klein",
   "metadata": {},
   "outputs": [],
   "source": []
  }
 ],
 "metadata": {
  "kernelspec": {
   "display_name": "Python [conda env:525]",
   "language": "python",
   "name": "conda-env-525-py"
  },
  "language_info": {
   "codemirror_mode": {
    "name": "ipython",
    "version": 3
   },
   "file_extension": ".py",
   "mimetype": "text/x-python",
   "name": "python",
   "nbconvert_exporter": "python",
   "pygments_lexer": "ipython3",
   "version": "3.9.2"
  }
 },
 "nbformat": 4,
 "nbformat_minor": 5
}
